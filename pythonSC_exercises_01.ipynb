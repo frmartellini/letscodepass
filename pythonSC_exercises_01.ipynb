{
 "cells": [
  {
   "cell_type": "markdown",
   "id": "afc57988",
   "metadata": {},
   "source": [
    "# LET'S CODE PASS\n",
    "\n",
    "## Shor Class - Python\n",
    "\n",
    "### Exercícios Módulo 1\n",
    "\n",
    "*por Francisco Martellini*"
   ]
  },
  {
   "cell_type": "markdown",
   "id": "59a402e8",
   "metadata": {},
   "source": [
    "1. Faça um programa que peça um valor monetário e diminua-o em 15%. Seu programa deve imprimir a mensagem “O novo valor é \\[valor\\]”"
   ]
  },
  {
   "cell_type": "code",
   "execution_count": 32,
   "id": "8bc68f4d",
   "metadata": {},
   "outputs": [
    {
     "name": "stdout",
     "output_type": "stream",
     "text": [
      "Digite um valor monetário: 73\n",
      "O novo valor é 62.05\n"
     ]
    }
   ],
   "source": [
    "valor = int(input(\"Digite um valor monetário: \"))\n",
    "\n",
    "# se a redução é de 15%, usamos o complementar: 0,85\n",
    "valor = valor * 0.85\n",
    "\n",
    "print(\"O novo valor é %.2f\" % valor)"
   ]
  },
  {
   "cell_type": "markdown",
   "id": "4aec8d44",
   "metadata": {},
   "source": [
    "2. Faça um programa que leia a validade das informações:\n",
    "\n",
    "    a) Idade: entre 0 e 150;<br />\n",
    "    b) Salário: maior que 0;<br />\n",
    "    c) Sexo: M, F ou Outro;\n",
    "\n",
    "    O programa deve imprimir uma mensagem de erro para cada informação inválida."
   ]
  },
  {
   "cell_type": "code",
   "execution_count": 45,
   "id": "b287af16",
   "metadata": {},
   "outputs": [
    {
     "name": "stdout",
     "output_type": "stream",
     "text": [
      "Digite uma idade: 23\n",
      "Digite um salário: 234\n",
      "Digite o sexo [M, F, Outro]: F\n",
      "\n",
      "Valor válido para a variável idade\n",
      "Valor válido para a variável salario\n",
      "Valor válido para a variável sexo\n"
     ]
    }
   ],
   "source": [
    "idade = int(input(\"Digite uma idade: \"))\n",
    "\n",
    "salario = float(input(\"Digite um salário: \"))\n",
    "\n",
    "sexo = input(\"Digite o sexo [M, F, Outro]: \")\n",
    "\n",
    "print(\"\")\n",
    "if idade < 0:\n",
    "    print(\"Erro: Idade menor do que 0, digite um novo valor\")\n",
    "elif idade > 150:\n",
    "    print(\"Erro: Idade maior do que 150, digite um novo valor\")\n",
    "else:\n",
    "    print(\"Valor válido para a variável idade\")\n",
    "\n",
    "if salario < 0:\n",
    "    print(\"Erro: Salário menor do que 0, digite um novo valor\")\n",
    "else:\n",
    "    print(\"Valor válido para a variável salario\")\n",
    "\n",
    "if sexo != \"M\" and sexo != \"F\" and sexo != \"Outro\":\n",
    "    print(\"Erro: Digite um valor válido para a variável sexo: M, F ou Outro\")\n",
    "else:\n",
    "    print(\"Valor válido para a variável sexo\")"
   ]
  },
  {
   "cell_type": "markdown",
   "id": "9d9db75a",
   "metadata": {},
   "source": [
    "3. Vamos fazer um programa para verificar quem é o assassino de um crime.\n",
    "    \n",
    "    Para descobrir o assassino, a polícia faz um pequeno questionário com 5 perguntas onde a resposta só pode ser sim ou não:\n",
    "    \n",
    "    a) Mora perto da vítima?<br />\n",
    "    b) Já trabalhou com a vítima?<br />\n",
    "    c) Telefonou para a vítima?<br />\n",
    "    d) Esteve no local do crime?<br />\n",
    "    e) Devia para a vítima?\n",
    "    \n",
    "    Cada resposta sim dá um ponto para o suspeito. A polícia considera que os suspeitos com 5 pontos são os assassinos, com 4 a 3 pontos são cúmplices e 2 pontos são apenas suspeitos, necessitando outras investigações. Valores iguais ou abaixo de 1 são liberados."
   ]
  },
  {
   "cell_type": "code",
   "execution_count": 75,
   "id": "8abc6da0",
   "metadata": {},
   "outputs": [
    {
     "name": "stdout",
     "output_type": "stream",
     "text": [
      "Mora perto da vítima? (sim ou não) nao\n",
      "Já trabalhou com a vítima? (sim ou não) nao\n",
      "Telefonou para a vítima? (sim ou não) nao\n",
      "Esteve no local do crime? (sim ou não) nao\n",
      "Devia para a vítima? (sim ou não) nao\n",
      "\n",
      "Suspeito liberado.\n"
     ]
    }
   ],
   "source": [
    "import unidecode # converte strings unicode para ascii\n",
    "\n",
    "suspeito = 0 # todos são considerados inocentes inicialmente\n",
    "\n",
    "moradia = input(\"Mora perto da vítima? (sim ou não) \")\n",
    "moradia = unidecode.unidecode(moradia.lower()) # remove acentos e coloca a string em minúscula\n",
    "\n",
    "# verifica se a entrada é válida\n",
    "while moradia != \"sim\" and moradia != \"nao\":\n",
    "    moradia = input(\"Valor Inválido! Digite novamente\\nMora perto da vítima? (sim ou não) \")\n",
    "    moradia = unidecode.unidecode(moradia.lower())\n",
    "    \n",
    "# Se a resposta for sim, soma um ponto para o suspeito\n",
    "if moradia == \"sim\":\n",
    "    suspeito = suspeito + 1\n",
    "    \n",
    "trabalho = input(\"Já trabalhou com a vítima? (sim ou não) \")\n",
    "trabalho = unidecode.unidecode(trabalho.lower()) # remove acentos e coloca a string em minúscula\n",
    "\n",
    "# verifica se a entrada é válida\n",
    "while trabalho != \"sim\" and trabalho != \"nao\":\n",
    "    trabalho = input(\"Valor Inválido! Digite novamente\\nJá trabalhou com a vítima? (sim ou não) \")\n",
    "    trabalho = unidecode.unidecode(trabalho.lower())\n",
    "    \n",
    "# Se a resposta for sim, soma um ponto para o suspeito\n",
    "if trabalho == \"sim\":\n",
    "    suspeito = suspeito + 1\n",
    "    \n",
    "telefone = input(\"Telefonou para a vítima? (sim ou não) \")\n",
    "telefone = unidecode.unidecode(telefone.lower()) # remove acentos e coloca a string em minúscula\n",
    "\n",
    "# verifica se a entrada é válida\n",
    "while telefone != \"sim\" and telefone != \"nao\":\n",
    "    telefone = input(\"Valor Inválido! Digite novamente\\nTelefonou para a vítima?(sim ou não) \")\n",
    "    telefone = unidecode.unidecode(telefone.lower())\n",
    "    \n",
    "# Se a resposta for sim, soma um ponto para o suspeito\n",
    "if telefone == \"sim\":\n",
    "    suspeito = suspeito + 1\n",
    "\n",
    "local_crime = input(\"Esteve no local do crime? (sim ou não) \")\n",
    "local_crime = unidecode.unidecode(local_crime.lower()) # remove acentos e coloca a string em minúscula\n",
    "\n",
    "# verifica se a entrada é válida\n",
    "while local_crime != \"sim\" and local_crime != \"nao\":\n",
    "    local_crime = input(\"Valor Inválido! Digite novamente\\nEsteve no local do crime? (sim ou não) \")\n",
    "    local_crime = unidecode.unidecode(local_crime.lower())\n",
    "    \n",
    "# Se a resposta for sim, soma um ponto para o suspeito\n",
    "if local_crime == \"sim\":\n",
    "    suspeito = suspeito + 1\n",
    "    \n",
    "devedor = input(\"Devia para a vítima? (sim ou não) \")\n",
    "devedor = unidecode.unidecode(devedor.lower()) # remove acentos e coloca a string em minúscula\n",
    "\n",
    "# verifica se a entrada é válida\n",
    "while devedor != \"sim\" and devedor != \"nao\":\n",
    "    devedor = input(\"Valor Inválido! Digite novamente\\nDevia para a vítima?(sim ou não) \")\n",
    "    devedor = unidecode.unidecode(devedor.lower())\n",
    "    \n",
    "# Se a resposta for sim, soma um ponto para o suspeito\n",
    "if devedor == \"sim\":\n",
    "    suspeito = suspeito + 1    \n",
    "    \n",
    "if suspeito == 5:\n",
    "    print(\"\\nO suspeito é o assassino!\")\n",
    "elif suspeito == 4 or suspeito == 3:\n",
    "    print(\"\\nO suspeito é um cúmplice!\")\n",
    "elif suspeito == 2:\n",
    "    print(\"\\nO suspeito necessita de mais investigações.\")\n",
    "else:\n",
    "    print(\"\\nSuspeito liberado.\")"
   ]
  },
  {
   "cell_type": "markdown",
   "id": "5ff77986",
   "metadata": {},
   "source": [
    "4. Faça um programa que imprima a tabuada do 9 (de 9*1 a 9*10) usando loops."
   ]
  },
  {
   "cell_type": "code",
   "execution_count": 87,
   "id": "2a5b156f",
   "metadata": {},
   "outputs": [
    {
     "name": "stdout",
     "output_type": "stream",
     "text": [
      "9 X 1 = 9\n",
      "9 X 2 = 18\n",
      "9 X 3 = 27\n",
      "9 X 4 = 36\n",
      "9 X 5 = 45\n",
      "9 X 6 = 54\n",
      "9 X 7 = 63\n",
      "9 X 8 = 72\n",
      "9 X 9 = 81\n",
      "9 X 10 = 90\n"
     ]
    }
   ],
   "source": [
    "for i in range(11):\n",
    "    if i == 0:\n",
    "        continue\n",
    "    print(\"9 X\", i, \"=\", 9 * i)"
   ]
  },
  {
   "cell_type": "code",
   "execution_count": null,
   "id": "802b9b72",
   "metadata": {},
   "outputs": [],
   "source": []
  }
 ],
 "metadata": {
  "kernelspec": {
   "display_name": "Python 3 (ipykernel)",
   "language": "python",
   "name": "python3"
  },
  "language_info": {
   "codemirror_mode": {
    "name": "ipython",
    "version": 3
   },
   "file_extension": ".py",
   "mimetype": "text/x-python",
   "name": "python",
   "nbconvert_exporter": "python",
   "pygments_lexer": "ipython3",
   "version": "3.9.7"
  }
 },
 "nbformat": 4,
 "nbformat_minor": 5
}
